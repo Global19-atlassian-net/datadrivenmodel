{
 "cells": [
  {
   "cell_type": "markdown",
   "metadata": {},
   "source": [
    "# Data Driven Presales Evaluation\n",
    "\n",
    "Welcome to using the data driven jupyter notebook for evaluating if data from csv file(s) is sufficient for creating simulators using supervised learning methods. The approach of learning the state transitions, $(\\underline{s}, \\underline{a}) \\rightarrow \\underline{s}'$ from data is growing in popularity, however, not all of your data may have the correct distributions for the ranges needed for your Reinforcement Learning use case. This notebook is split up into three sections: \n",
    "\n",
    "- Data Relevance\n",
    "- Sparsity\n",
    "- Data Distribution Confidence\n",
    "\n",
    "This notebook uses `nbgrader` package to 'grade' your data quality, distributions, and feasibility of creating approximated simulations from your data. A score of 100 means you passed all the tests. The tests basically consists of assert conditions that individual notebook cells must run successfully, require user input of `Y/N` that you agree, or requiring inputs of Subject Matter Expert (SME) data ranges. The `nbgrader` package allows for certain snippets of code to be hidden from you to simplify the usage of this notebook. When code is hidden from you, you will know because the cell can NO longer be edited in jupyter notebook.\n",
    "\n",
    "> To pass tests, you may have to create a new cell and write code to filter/smooth/manipulate your data \n",
    "\n",
    "Successfully run all cells to assess whether or not a data driven simulator can be adequately created from your data. Once you have ran the cells without assertion errors, quickly double check your script passes the tests by click the `Validate` button in the jupyter notebook. If all tests are passed, then please export this as a PDF to share."
   ]
  },
  {
   "cell_type": "code",
   "execution_count": 1,
   "metadata": {},
   "outputs": [],
   "source": [
    "import pandas as pd\n",
    "from scipy import stats\n",
    "import numpy as np\n",
    "import os\n",
    "import matplotlib.pyplot as plt\n",
    "%matplotlib inline\n",
    "import seaborn as sns\n",
    "import yaml\n",
    "\n",
    "gitroot = os.popen('git rev-parse --show-toplevel').read()\n",
    "os.chdir(gitroot.rstrip())"
   ]
  },
  {
   "cell_type": "markdown",
   "metadata": {},
   "source": [
    "### SECTION A: Data Relevance\n",
    "\n",
    "- load csv file(s)\n",
    "- define potential inputs/outputs\n",
    "- check NaN\n",
    "- define cadence of state transitions\n",
    "- check outliers and plot each indiviual dataset\n",
    "- check NaN after concatenating\n",
    "- use feature importances to determine best features\n",
    "- re-define features (inputs)\n",
    "- save as single csv, named approved_data.csv\n",
    "\n",
    "`Step 1`: Add path to filenames as strings to the `filenames` list."
   ]
  },
  {
   "cell_type": "code",
   "execution_count": 2,
   "metadata": {},
   "outputs": [],
   "source": [
    "filenames = [\n",
    "    'example_data.csv',\n",
    "    #'data.csv',\n",
    "]"
   ]
  },
  {
   "cell_type": "markdown",
   "metadata": {},
   "source": [
    "The test below simply awards 10 points if the data can be successfuly loaded into the jupyter notebook, i.e. paths are real."
   ]
  },
  {
   "cell_type": "code",
   "execution_count": 3,
   "metadata": {
    "nbgrader": {
     "grade": true,
     "grade_id": "cell-f646fd7fefe9fed1",
     "locked": true,
     "points": 10,
     "schema_version": 3,
     "solution": false,
     "task": false
    }
   },
   "outputs": [],
   "source": [
    "df_list = []\n",
    "for location in filenames:\n",
    "    read_datafile = pd.read_csv(location)\n",
    "    df_list.append(read_datafile)"
   ]
  },
  {
   "cell_type": "markdown",
   "metadata": {},
   "source": [
    "`Step 2`: Add any potential feature names as states and actions to the dictionary in the following way. Here we want to be more broad than you think because this notebook will help you determine which features probably matter more using what's called feature importances (to be looked at later).\n",
    "\n",
    "```python\n",
    "config['IO']['feature_name'] = {\n",
    "    'name1': 'state',\n",
    "    'name2': 'state',\n",
    "    'name3': 'action',\n",
    "}\n",
    "```"
   ]
  },
  {
   "cell_type": "code",
   "execution_count": 4,
   "metadata": {},
   "outputs": [],
   "source": [
    "with open('config/config_model.yml') as conf:\n",
    "    config = yaml.full_load(conf)\n",
    "\n",
    "# TODO: Modify dictionary for as 'feature_name': 'action' or 'state'\n",
    "config['IO']['feature_name'] = {\n",
    "    'theta': 'state',\n",
    "    'alpha': 'state',\n",
    "    'theta_dot': 'state',\n",
    "    'alpha_dot': 'state',\n",
    "    'Vm': 'action',\n",
    "}"
   ]
  },
  {
   "cell_type": "markdown",
   "metadata": {},
   "source": [
    "`Step 3`: Add the desired states to be predicted from the supervised learning simulator. Typically it is the next state after a timestep, $(\\underline{s}, \\underline{a}) \\rightarrow \\underline{s}'$. However, they may be additional features in the data that you may wish to actually predict. This is okay too, just make sure to have sufficient proxy information in the features to determine it.\n",
    "\n",
    "```python\n",
    "config['IO']['output_name'] = [\n",
    "    'name1',\n",
    "    'name2',\n",
    "]\n",
    "```"
   ]
  },
  {
   "cell_type": "code",
   "execution_count": 5,
   "metadata": {},
   "outputs": [],
   "source": [
    "# TODO: Modify list to consist of predicted states\n",
    "config['IO']['output_name'] = [\n",
    "    'theta',\n",
    "    'alpha',\n",
    "    'theta_dot',\n",
    "    'alpha_dot',\n",
    "]\n",
    "\n",
    "with open('config/config_model.yml', 'w') as conf:\n",
    "    yaml.dump(config, conf, sort_keys=False)\n",
    "\n",
    "feature_names = []\n",
    "for key, value in config['IO']['feature_name'].items():\n",
    "    feature_names.append(key)\n",
    "    \n",
    "output_names = config['IO']['output_name']\n",
    "\n",
    "req_keys = feature_names.copy()\n",
    "for name in output_names:\n",
    "    if name not in req_keys:\n",
    "        req_keys.append(name)"
   ]
  },
  {
   "cell_type": "markdown",
   "metadata": {},
   "source": [
    "The test below checks if there are NaN (Not a Number), strings, or objects based upon each csv. Building a data driven simulator using supervised learning methods must be provided numbers, it must be processed. You will be provided with which columns of which datasets have improper types."
   ]
  },
  {
   "cell_type": "code",
   "execution_count": 16,
   "metadata": {
    "nbgrader": {
     "grade": true,
     "grade_id": "cell-075b43e670fe45d3",
     "locked": true,
     "points": 10,
     "schema_version": 3,
     "solution": false,
     "task": false
    }
   },
   "outputs": [
    {
     "name": "stdout",
     "output_type": "stream",
     "text": [
      "data set: example_data.csv\n",
      "Detected 0 NaN and the following issues in column, theta:  []\n",
      "Detected 0 NaN and the following issues in column, alpha:  []\n",
      "Detected 0 NaN and the following issues in column, theta_dot:  []\n",
      "Detected 0 NaN and the following issues in column, alpha_dot:  []\n",
      "Detected 0 NaN and the following issues in column, Vm:  []\n",
      "[]\n",
      "[]\n",
      "[]\n",
      "[]\n",
      "[]\n"
     ]
    }
   ],
   "source": [
    "## Check for strings, nans, other datatypes than numbers\n",
    "\n",
    "### BEGIN HIDDEN TESTS\n",
    "\n",
    "def hasNaN(x_set):\n",
    "    nan_catcher = np.zeros((1, x_set.shape[1]))\n",
    "    catcher = []\n",
    "\n",
    "    if isinstance(x_set, pd.DataFrame):\n",
    "        i = 0\n",
    "        for column_name, column_data in x_set.iteritems():\n",
    "            catcher_col = []\n",
    "            if column_data.dtype == 'object':\n",
    "                for row in column_data.values:\n",
    "                    if pd.isnull(row):\n",
    "                        nan_catcher[0, i] += 1\n",
    "                    else:\n",
    "                        try:\n",
    "                            row = float(row)\n",
    "                        except:\n",
    "                            catcher_col.append(row)\n",
    "            else:\n",
    "                pass\n",
    "            catcher.append(catcher_col)\n",
    "            i += 1\n",
    "\n",
    "    elif isinstance(x_set, np.ndarray):\n",
    "        for i in range (0, x_set.shape[1]):\n",
    "            catcher_col = []\n",
    "            for j in range(x_set.shape[0]):\n",
    "                if type(x_set[j, i]) == str or type(x_set[j, i]) == list or type(x_set[j, i]) == dict or type(x_set[j, i]) == tuple:\n",
    "                    try:\n",
    "                        row = float(x_set[j, i])\n",
    "                    except:\n",
    "                        catcher_col.append(x_set[j, i])\n",
    "                elif pd.isnull(x_set[j, i]):\n",
    "                    nan_catcher[0, i] += 1\n",
    "                else:\n",
    "                    pass\n",
    "            catcher.append(catcher_col)\n",
    "    else:\n",
    "        print('Please input pandas dataframe or numpy array')\n",
    "        exit()\n",
    "    return nan_catcher, catcher\n",
    "\n",
    "check_nan = []\n",
    "check_ = []\n",
    "for i, df in enumerate(df_list):\n",
    "    print('data set: {}'.format(filenames[i]))\n",
    "    nan_count, _ = hasNaN(df[req_keys])\n",
    "    check_nan.append(nan_count)\n",
    "    check_.append(_)\n",
    "    for i in range(0, df[req_keys].shape[1]):\n",
    "        print('Detected {} NaN and the following issues in column, {}:  {}'.format(int(nan_count[0, i]), req_keys[i],  _[i]))\n",
    "\n",
    "for dataset in check_nan:\n",
    "    for col in dataset:\n",
    "        assert(col.any() < 1), \"NaNs were detected, remove.\"\n",
    "for dataset in check_:\n",
    "    for col in dataset:\n",
    "        assert(len(col) == 0), \"Remove undesired data samples tagged above.\"\n",
    "### END HIDDEN TESTS"
   ]
  },
  {
   "cell_type": "markdown",
   "metadata": {},
   "source": [
    "`Step 4`: Change the timelag or the number of iterations that span between the state transition, $(\\underline{s}, \\underline{a}) \\rightarrow \\underline{s}'$. Think of this as the number of rows in the csv that dictate the timestep between a \"steady state\" transition, where a change in an input to the system will be reflected after this many sample measurements."
   ]
  },
  {
   "cell_type": "code",
   "execution_count": 7,
   "metadata": {},
   "outputs": [],
   "source": [
    "timelag = 1"
   ]
  },
  {
   "cell_type": "markdown",
   "metadata": {},
   "source": [
    "The test below finds outliers for each dataset, plots the original states and actions with overlayed outliers marked. Outliers can occur due to noisy sensors, conditions that are abnormal, or if the Signal is Not Available (SNA) where it defaults to a really large or small number.\n",
    "\n",
    "- fits to data in single csv, check for if any data is outside 3 std\n",
    "- plots states and actions, overlayed with outliers"
   ]
  },
  {
   "cell_type": "code",
   "execution_count": 8,
   "metadata": {
    "nbgrader": {
     "grade": true,
     "grade_id": "cell-125c8ee9119954e1",
     "locked": true,
     "points": 0,
     "schema_version": 3,
     "solution": false,
     "task": false
    },
    "scrolled": false
   },
   "outputs": [
    {
     "name": "stderr",
     "output_type": "stream",
     "text": [
      "Using TensorFlow backend.\n"
     ]
    },
    {
     "name": "stdout",
     "output_type": "stream",
     "text": [
      "data set: example_data.csv\n",
      "computing Outliers ....\n",
      "y 0 :  [15084 73740]\n",
      "y 1 :  []\n",
      "y 2 :  [92003]\n",
      "y 3 :  []\n"
     ]
    },
    {
     "data": {
      "text/plain": [
       "None"
      ]
     },
     "metadata": {},
     "output_type": "display_data"
    },
    {
     "data": {
      "image/png": "[encoded data removed]",
      "text/plain": [
       "<Figure size 432x288 with 4 Axes>"
      ]
     },
     "metadata": {
      "needs_background": "light"
     },
     "output_type": "display_data"
    },
    {
     "data": {
      "image/png": "[encoded data removed]",
      "text/plain": [
       "<Figure size 432x288 with 1 Axes>"
      ]
     },
     "metadata": {
      "needs_background": "light"
     },
     "output_type": "display_data"
    }
   ],
   "source": [
    "## Check for Outliers\n",
    "\n",
    "### BEGIN HIDDEN TESTS\n",
    "\n",
    "from sklearn.model_selection import train_test_split\n",
    "from sklearn.ensemble import GradientBoostingRegressor\n",
    "from env_data_modeler import env_gb_modeler\n",
    "\n",
    "def plotOutliers(y_set, y_predict_all, outlier_data, config):\n",
    "    fig = plt.figure()\n",
    "    numSubPlots = y_set.shape[1]\n",
    "\n",
    "    outlierData = outlier_data['y' + str(0)]\n",
    "    dataLabel = []\n",
    "    for key, value in config['IO']['feature_name'].items():\n",
    "        if value == 'state':\n",
    "            dataLabel.append(key)\n",
    "\n",
    "    ax1 = plt.subplot(numSubPlots, 1, 0+1)\n",
    "    plt.plot(y_set[:,0], label=dataLabel[0], linewidth=1, color = 'blue' )\n",
    "    plt.plot(y_predict_all[0], label=dataLabel[0], linewidth=1, color = 'black' )\n",
    "    plt.scatter(outlierData,y_set[outlierData,0], label='outlier', linewidth=1, marker = '*', color = 'red', s = 50)\n",
    "    plt.xticks(rotation='horizontal')\n",
    "    plt.legend(loc='upper right')\n",
    "    \n",
    "    for i in range(1,numSubPlots):        \n",
    "        outlierData = outlier_data['y' + str(i)]\n",
    "\n",
    "        ax2 = plt.subplot(numSubPlots, 1, i+1, sharex=ax1)\n",
    "        plt.plot(y_set[:,i], label=dataLabel[i], linewidth=1, color = 'blue' )\n",
    "        plt.plot(y_predict_all[i], label=dataLabel[i], linewidth=1, color = 'black' )\n",
    "        plt.scatter(outlierData,y_set[outlierData,i], label='outlier', linewidth=1, marker = '*', color = 'red', s = 50)\n",
    "        plt.xticks(rotation='horizontal')\n",
    "        plt.legend(loc='upper right')\n",
    "\n",
    "    # plt.show()\n",
    "    \n",
    "def findOutliersAll(x_set,y_set, thrhld=2):\n",
    "    ## Computing Feature importance using gradient boosting\n",
    "    print('computing Outliers ....')\n",
    "    outlier_data = {}\n",
    "    y_predict_all = []\n",
    "    for i in range (0, y_set.shape[1]):\n",
    "        gb_estimator=GradientBoostingRegressor(n_iter_no_change=50, validation_fraction=.2)\n",
    "        gb_model= gb_estimator.fit(x_set,y_set[:,i])\n",
    "        y_predict = gb_estimator.predict(x_set)\n",
    "        outlier_data['y' + str(i)] = findOutlier(y_set[:,i], y_predict, thrhld=thrhld)\n",
    "        y_predict_all.append(y_predict)\n",
    "        print('y', str(i), ': ', outlier_data['y' + str(i)])\n",
    "    return outlier_data, y_predict_all\n",
    "\n",
    "def findOutlier(y, y_predict, thrhld=2):\n",
    "    y_std = y.std(axis = 0)\n",
    "    outL = np.where(np.abs(y-y_predict) > thrhld*y_std) # tuple\n",
    "    return outL[0]\n",
    "\n",
    "def plotInputs(x_set, y_set, config):\n",
    "    fig = plt.figure()\n",
    "    numSubPlots = x_set.shape[1] - y_set.shape[1]  ## Num of inputs\n",
    "    \n",
    "    dataLabel = []\n",
    "    for key, value in config['IO']['feature_name'].items():\n",
    "        if value == 'action':\n",
    "            dataLabel.append(key)\n",
    "    ax1 = plt.subplot(numSubPlots, 1, 1)\n",
    "    plt.plot(x_set[:,y_set.shape[1]+0], label=dataLabel[0], linewidth=1, color = 'blue' )\n",
    "    plt.xticks(rotation='horizontal')\n",
    "    plt.legend(loc='upper right')\n",
    "    \n",
    "    for i in range(1,numSubPlots):\n",
    "        ax2 = plt.subplot(numSubPlots, 1, i+1, sharex=ax1)\n",
    "        plt.plot(x_set[:,y_set.shape[1]+i], label=dataLabel[i], linewidth=1, color = 'blue' )\n",
    "        plt.xticks(rotation='horizontal')\n",
    "        plt.legend(loc='upper right')\n",
    "\n",
    "    # plt.show()\n",
    "    return fig\n",
    "\n",
    "def maxMinMeanStd(x, varName = 'x'):\n",
    "    return x.min(axis = 0), x.max(axis = 0), x.mean(axis = 0), x.std(axis = 0)\n",
    "\n",
    "def df_to_set(logdf, timelag=1):\n",
    "    state_key_list = []\n",
    "    action_key_list = []\n",
    "    for key, value in config['IO']['feature_name'].items():\n",
    "        if value == 'state':\n",
    "            state_key_list.append(key)\n",
    "        elif value == 'action':\n",
    "            action_key_list.append(key)\n",
    "        else:\n",
    "            print('Please fix config_model.yml to specify either state or action')\n",
    "            exit()\n",
    "    output_key_list = config['IO']['output_name']\n",
    "\n",
    "    outputs = logdf[output_key_list]\n",
    "    states = logdf[state_key_list]\n",
    "    actions = logdf[action_key_list]\n",
    "\n",
    "    states_t = states.iloc[0:-timelag]\n",
    "    states_tplus1 = outputs.iloc[timelag:]\n",
    "    len(states_t)\n",
    "    len(states_tplus1)\n",
    "    actions_t = actions.iloc[0:-timelag]\n",
    "    frames = [states_t, actions_t]\n",
    "    x_set_df = pd.concat(frames, axis=1)\n",
    "    y_set_df = states_tplus1\n",
    "    \n",
    "    x_set = x_set_df.to_numpy()\n",
    "    y_set = y_set_df.to_numpy()\n",
    "    \n",
    "    return x_set, y_set\n",
    "\n",
    "for i, df in enumerate(df_list):\n",
    "    print('data set: {}'.format(filenames[i]))\n",
    "    x_set, y_set = df_to_set(df[req_keys])\n",
    "    outlier_data, y_predict_all = findOutliersAll(x_set, y_set, thrhld=3)\n",
    "    fig = plotOutliers(y_set, y_predict_all, outlier_data, config)\n",
    "    plotInputs(x_set, y_set, config)\n",
    "    display(fig)\n",
    "\n",
    "### END HIDDEN TESTS"
   ]
  },
  {
   "cell_type": "markdown",
   "metadata": {},
   "source": [
    "`Step 5`: The notebook will prompt you to accept `Y/N` with the outliers. It is okay to have a few as long as they make sense to you and are not going to interrupt learning the normal conditions you expect the simulator to model (not abnormal).\n",
    "\n",
    "If you need to manipulate the data further, Enter `N`."
   ]
  },
  {
   "cell_type": "code",
   "execution_count": 9,
   "metadata": {
    "nbgrader": {
     "grade": true,
     "grade_id": "cell-ce12dc1e6c9d35fd",
     "locked": true,
     "points": 10,
     "schema_version": 3,
     "solution": false,
     "task": false
    }
   },
   "outputs": [
    {
     "name": "stdout",
     "output_type": "stream",
     "text": [
      "Do you accept the outliers in the following dataset? Enter \"Yes\". If not, type \"No\" and filter or smooth data: Y\n"
     ]
    }
   ],
   "source": [
    "accept_outliers = input('Do you accept the outliers in the following dataset? Enter \"Yes\". If not, type \"No\" and filter or smooth data: ')\n",
    "\n",
    "assert(accept_outliers == 'Yes' or accept_outliers == 'yes' or accept_outliers == 'y' or accept_outliers == 'Y'), \"Manipulate data to smooth and filter to remove outliers before step 5, then re-run cells up until this point again\""
   ]
  },
  {
   "cell_type": "markdown",
   "metadata": {},
   "source": [
    "After accepting the outliers, this notebook will concatenate the data and check for NaNs again due to any datasets missing features (columns)."
   ]
  },
  {
   "cell_type": "code",
   "execution_count": 19,
   "metadata": {
    "nbgrader": {
     "grade": true,
     "grade_id": "cell-169a850c9712f865",
     "locked": true,
     "points": 10,
     "schema_version": 3,
     "solution": false,
     "task": false
    }
   },
   "outputs": [
    {
     "name": "stdout",
     "output_type": "stream",
     "text": [
      "      theta     alpha  theta_dot  alpha_dot        Vm\n",
      "0  0.506145  0.038554  -0.017386   0.008774 -0.652841\n",
      "1  0.506380  0.038924   0.134700   0.176485 -0.997206\n",
      "2  0.507359  0.040100   0.354600   0.411214  0.306137\n",
      "3  0.508701  0.041705   0.316602   0.391761  2.492230\n",
      "4  0.509028  0.042383  -0.152600  -0.052578 -2.165399\n",
      "Detected 0 NaN and the following issues in column, theta:  []\n",
      "Detected 0 NaN and the following issues in column, alpha:  []\n",
      "Detected 0 NaN and the following issues in column, theta_dot:  []\n",
      "Detected 0 NaN and the following issues in column, alpha_dot:  []\n",
      "Detected 0 NaN and the following issues in column, Vm:  []\n"
     ]
    }
   ],
   "source": [
    "dfs = pd.DataFrame()\n",
    "for df in df_list:\n",
    "  dfs = pd.concat([dfs, df[req_keys]], sort=False)\n",
    "\n",
    "print(dfs.head())\n",
    "\n",
    "### BEGIN HIDDEN TESTS\n",
    "nan_count, _ = hasNaN(df[req_keys])\n",
    "for i in range(0, df[req_keys].shape[1]):\n",
    "        print('Detected {} NaN and the following issues in column, {}:  {}'.format(int(nan_count[0, i]), req_keys[i],  _[i]))\n",
    "\n",
    "for col in nan_count:\n",
    "    assert(col.any() < 1), \"NaNs were detected, remove.\"\n",
    "for col in _:\n",
    "    assert(len(col) == 0), \"Remove undesired data samples tagged above.\"\n",
    "### END HIDDEN TESTS"
   ]
  },
  {
   "cell_type": "markdown",
   "metadata": {},
   "source": [
    "We have now qualified your datasets enough to export it to a single csv, named `processed_data.csv`. You have now finished the first section of `Data Relevance`. This does NOT say anything about data sparsity and distribution confidence, which are the next two sections."
   ]
  },
  {
   "cell_type": "code",
   "execution_count": 21,
   "metadata": {},
   "outputs": [
    {
     "name": "stdout",
     "output_type": "stream",
     "text": [
      "x_set_shape is (99999, 5)\n",
      "y_set_shape is: (99999, 4)\n"
     ]
    }
   ],
   "source": [
    "from datamodeler import csv_to_pickle\n",
    "\n",
    "dfs.to_csv('processed_data.csv', mode='w', index=False)\n",
    "\n",
    "csv_to_pickle('processed_data.csv', timelag=timelag)"
   ]
  },
  {
   "cell_type": "markdown",
   "metadata": {},
   "source": [
    "Below determines the `feature importances`, which are quantifying the inputs that are most valuable in explaining the target variable. The feature importances add up to one when summed, where the largest value is the most important feature. This is a useful trick in designing inputs/ouputs for supervised learning. We determine the feature importances for each of the predicted outputs, based on the features provided in cells above. They are then plotted where a legend designates the predicted value.\n",
    "\n",
    "> If you are NOT satisfied with your chosen model inputs, modify the inputs in the cell above and run through all the cells leading up to this again."
   ]
  },
  {
   "cell_type": "code",
   "execution_count": 23,
   "metadata": {
    "nbgrader": {
     "grade": true,
     "grade_id": "cell-8094f7632eb6baee",
     "locked": true,
     "points": 0,
     "schema_version": 3,
     "solution": false,
     "task": false
    }
   },
   "outputs": [
    {
     "name": "stdout",
     "output_type": "stream",
     "text": [
      "computing Feature Importance ....\n",
      "feature importance for theta'  : [9.29390235e-01 6.29508311e-02 4.72061802e-03 2.83410272e-03\n",
      " 1.04213074e-04]\n",
      "feature importance for alpha'  : [3.20025425e-04 9.88393473e-01 1.62267174e-04 1.10598025e-02\n",
      " 6.44318304e-05]\n",
      "feature importance for theta_dot'  : [1.65703110e-04 6.14763390e-02 8.85330057e-01 2.66671358e-03\n",
      " 5.03611870e-02]\n",
      "feature importance for alpha_dot'  : [1.78375425e-04 7.85116252e-02 2.43130220e-03 8.81186169e-01\n",
      " 3.76925277e-02]\n"
     ]
    },
    {
     "data": {
      "image/png": "[encoded data removed]",
      "text/plain": [
       "<Figure size 432x288 with 1 Axes>"
      ]
     },
     "metadata": {
      "needs_background": "light"
     },
     "output_type": "display_data"
    }
   ],
   "source": [
    "## Feature Importances\n",
    "\n",
    "### BEGIN HIDDEN TESTS\n",
    "from sklearn.model_selection import train_test_split\n",
    "from env_data_modeler import env_gb_modeler\n",
    "from datamodeler import read_env_data\n",
    "\n",
    "def feature_plots(feature_data, state_space_dim, action_space_dim, config, total_width=0.5):\n",
    "    fig, ax = plt.subplots()\n",
    "\n",
    "    colors = plt.rcParams['axes.prop_cycle'].by_key()['color']  \n",
    "    n_bars = len(feature_data)\n",
    "    bar_width = total_width / n_bars # width of single bar\n",
    "    bars = []\n",
    "    for i, (name, values) in enumerate(feature_data.items()):\n",
    "        x_offset = (i - n_bars / 2) * bar_width + bar_width / 2\n",
    "        for x, y in enumerate(values):\n",
    "            bar = ax.bar(x + x_offset, y, width=bar_width , color=colors[i % len(colors)])\n",
    "        bars.append(bar[0])\n",
    "\n",
    "\n",
    "    ax.legend(bars, feature_data.keys())\n",
    "    plt.xlabel('Feature Number', fontsize=18)\n",
    "    plt.ylabel('Feature Importance', fontsize=18)\n",
    "\n",
    "    plt.xticks(ticks=range(state_space_dim+action_space_dim), labels=config['IO']['feature_name'].keys())\n",
    "    plt.show()\n",
    "\n",
    "state_space_dim = 0\n",
    "action_space_dim = 0\n",
    "for key, value in config['IO']['feature_name'].items():\n",
    "    if value == 'state':\n",
    "        state_space_dim += 1\n",
    "    elif value == 'action':\n",
    "        action_space_dim += 1\n",
    "    else:\n",
    "        print('Please fix config_model.yml to specify either state or action')\n",
    "        \n",
    "x_set, y_set = read_env_data()\n",
    "x_train, x_test, y_train, y_test = train_test_split(x_set, y_set, test_size=0.33, random_state=42)\n",
    "\n",
    "## Computing Feature importance using gradient boosting\n",
    "print('computing Feature Importance ....')\n",
    "feature_importance_data = {}\n",
    "for i in range (0, y_set.shape[1]):\n",
    "    gb_estimator=env_gb_modeler(state_space_dim, action_space_dim)\n",
    "    gb_estimator.create_gb_model()\n",
    "    gb_model= gb_estimator.train_gb_model(x_train,y_train[:,i])\n",
    "    feature_importance_data[feature_names[i]+\"'\"] = gb_model.feature_importances_\n",
    "    print('feature importance for', feature_names[i]+\"'\", ' :', feature_importance_data[feature_names[i]+\"'\"])\n",
    "feature_plots(feature_importance_data, state_space_dim, action_space_dim, config, total_width=0.5)\n",
    "### END HIDDEN TESTS"
   ]
  },
  {
   "cell_type": "markdown",
   "metadata": {},
   "source": [
    "`Step 6`: Enter `Y` if you accept your current model inputs and outputs, If not, Enter `N` and "
   ]
  },
  {
   "cell_type": "code",
   "execution_count": 24,
   "metadata": {
    "nbgrader": {
     "grade": true,
     "grade_id": "cell-c163b2f5a6ecfde6",
     "locked": true,
     "points": 10,
     "schema_version": 3,
     "solution": false,
     "task": false
    }
   },
   "outputs": [
    {
     "name": "stdout",
     "output_type": "stream",
     "text": [
      "Do you accept the features based upon the feature importances shown? Enter \"Yes\" to continue. (Otherwise re-enter states and actions and run through cells again):  Y\n"
     ]
    }
   ],
   "source": [
    "accept_features = input('Do you accept the features based upon the feature importances shown? Enter \"Yes\" to continue. (Otherwise re-enter states and actions and run through cells again):  ')\n",
    "\n",
    "assert(accept_features == 'Yes' or accept_features == 'yes' or accept_features == 'y' or accept_features == 'Y'), \"Re-enter states and actions at step 2 and re-run through cells to visualize feature importances again.\""
   ]
  },
  {
   "cell_type": "markdown",
   "metadata": {},
   "source": [
    "### SECTION B: Sparsity\n",
    "\n",
    "- define Subject Matter Expert (SME) limits on feature ranges\n",
    "- plot histograms\n",
    "- compare SME limits with data limits using 2 std"
   ]
  },
  {
   "cell_type": "code",
   "execution_count": 25,
   "metadata": {
    "nbgrader": {
     "grade": true,
     "grade_id": "cell-0e275f4309a27519",
     "locked": true,
     "points": 0,
     "schema_version": 3,
     "solution": false,
     "task": false
    }
   },
   "outputs": [
    {
     "name": "stdout",
     "output_type": "stream",
     "text": [
      "theta:\n",
      "  min: -1\n",
      "  max: 1\n",
      "alpha:\n",
      "  min: -1\n",
      "  max: 1\n",
      "theta_dot:\n",
      "  min: -1\n",
      "  max: 1\n",
      "alpha_dot:\n",
      "  min: -1\n",
      "  max: 1\n",
      "Vm:\n",
      "  min: -1\n",
      "  max: 1\n",
      "\n"
     ]
    }
   ],
   "source": [
    "### Template limits to copy/paste into next cell\n",
    "\n",
    "### BEGIN HIDDEN TESTS\n",
    "sme_limits = {}\n",
    "for f in feature_names:\n",
    "    sme_limits.update({\n",
    "        f: {\n",
    "            'min': -1,\n",
    "            'max': 1,\n",
    "        }\n",
    "    })\n",
    "\n",
    "with open('config/sme_limits.yml', 'w') as conf:\n",
    "    yaml.dump(sme_limits, conf, sort_keys=False)\n",
    "    \n",
    "with open('config/sme_limits.yml', 'r') as sme:\n",
    "    print(sme.read())\n",
    "### END HIDDEN TESTS"
   ]
  },
  {
   "cell_type": "markdown",
   "metadata": {},
   "source": [
    "`Step 7`: Modify template of min/max values for each of the features - this is where you define the Subject Matter Expert (SME) limits. Please define the range that would be reasonable to run the simulator in, despite what is captured in data. These are the limits that Reinforcement Learning will reasonably explore in to provide novel solutions.\n",
    "\n",
    "> Copy/Paste the above template below the `%%writefile config/sme_limits.yml` line and run the cell to write to the file. "
   ]
  },
  {
   "cell_type": "code",
   "execution_count": 26,
   "metadata": {},
   "outputs": [
    {
     "name": "stdout",
     "output_type": "stream",
     "text": [
      "Overwriting config/sme_limits.yml\n"
     ]
    }
   ],
   "source": [
    "%%writefile config/sme_limits.yml\n",
    "theta:\n",
    "  min: -1.5708\n",
    "  max: 1.5708\n",
    "alpha:\n",
    "  min: -3.14159\n",
    "  max: 3.14159\n",
    "theta_dot:\n",
    "  min: -7.822916413465077\n",
    "  max: 7.610718493430506\n",
    "alpha_dot:\n",
    "  min: -12.841118663208904\n",
    "  max: 11.931522401818508\n",
    "Vm:\n",
    "  min: -3\n",
    "  max: 3"
   ]
  },
  {
   "cell_type": "markdown",
   "metadata": {},
   "source": [
    "The following test will plot the histograms for each of the features and check whether or not the data's mean $\\pm 2$ std is larger than the SME limits. \n",
    "\n",
    "> The tests assume your data has a gaussian distribution, i.e. bi-modal data can be problematic. "
   ]
  },
  {
   "cell_type": "code",
   "execution_count": 27,
   "metadata": {
    "nbgrader": {
     "grade": true,
     "grade_id": "cell-22ed4f13332907f2",
     "locked": true,
     "points": 10,
     "schema_version": 3,
     "solution": false,
     "task": false
    }
   },
   "outputs": [
    {
     "ename": "AssertionError",
     "evalue": "",
     "output_type": "error",
     "traceback": [
      "\u001b[1;31m---------------------------------------------------------------------------\u001b[0m",
      "\u001b[1;31mAssertionError\u001b[0m                            Traceback (most recent call last)",
      "\u001b[1;32m<ipython-input-27-063bddd68c25>\u001b[0m in \u001b[0;36m<module>\u001b[1;34m\u001b[0m\n\u001b[0;32m     16\u001b[0m     \u001b[0mmodel_mean\u001b[0m \u001b[1;33m=\u001b[0m \u001b[0mmodel_limits\u001b[0m\u001b[1;33m[\u001b[0m\u001b[0mkey\u001b[0m\u001b[1;33m]\u001b[0m\u001b[1;33m[\u001b[0m\u001b[1;34m'mean'\u001b[0m\u001b[1;33m]\u001b[0m\u001b[1;33m\u001b[0m\u001b[1;33m\u001b[0m\u001b[0m\n\u001b[0;32m     17\u001b[0m     \u001b[0mmodel_std\u001b[0m \u001b[1;33m=\u001b[0m \u001b[0mmodel_limits\u001b[0m\u001b[1;33m[\u001b[0m\u001b[0mkey\u001b[0m\u001b[1;33m]\u001b[0m\u001b[1;33m[\u001b[0m\u001b[1;34m'std'\u001b[0m\u001b[1;33m]\u001b[0m\u001b[1;33m\u001b[0m\u001b[1;33m\u001b[0m\u001b[0m\n\u001b[1;32m---> 18\u001b[1;33m     \u001b[1;32massert\u001b[0m\u001b[1;33m(\u001b[0m\u001b[0mmodel_mean\u001b[0m \u001b[1;33m+\u001b[0m \u001b[1;36m2\u001b[0m \u001b[1;33m*\u001b[0m \u001b[0mmodel_std\u001b[0m \u001b[1;33m>=\u001b[0m \u001b[0msme_limits\u001b[0m\u001b[1;33m[\u001b[0m\u001b[0mkey\u001b[0m\u001b[1;33m]\u001b[0m\u001b[1;33m[\u001b[0m\u001b[1;34m'max'\u001b[0m\u001b[1;33m]\u001b[0m \u001b[1;32mand\u001b[0m \u001b[0mmodel_mean\u001b[0m \u001b[1;33m-\u001b[0m \u001b[1;36m2\u001b[0m \u001b[1;33m*\u001b[0m \u001b[0mmodel_std\u001b[0m \u001b[1;33m<=\u001b[0m \u001b[0msme_limits\u001b[0m\u001b[1;33m[\u001b[0m\u001b[0mkey\u001b[0m\u001b[1;33m]\u001b[0m\u001b[1;33m[\u001b[0m\u001b[1;34m'min'\u001b[0m\u001b[1;33m]\u001b[0m\u001b[1;33m)\u001b[0m\u001b[1;33m\u001b[0m\u001b[1;33m\u001b[0m\u001b[0m\n\u001b[0m\u001b[0;32m     19\u001b[0m \u001b[1;31m### END HIDDEN TESTS\u001b[0m\u001b[1;33m\u001b[0m\u001b[1;33m\u001b[0m\u001b[1;33m\u001b[0m\u001b[0m\n",
      "\u001b[1;31mAssertionError\u001b[0m: "
     ]
    },
    {
     "data": {
      "image/png": "[encoded data removed]",
      "text/plain": [
       "<Figure size 432x288 with 5 Axes>"
      ]
     },
     "metadata": {
      "needs_background": "light"
     },
     "output_type": "display_data"
    }
   ],
   "source": [
    "## Histogram and report sparsity index\n",
    "\n",
    "### BEGIN HIDDEN TESTS\n",
    "with open('config/sme_limits.yml', 'r') as sme:\n",
    "    sme_limits = yaml.full_load(sme)\n",
    "\n",
    "with open('config/model_limits.yml') as conf:\n",
    "    model_limits = yaml.full_load(conf)\n",
    "    \n",
    "fig, axs = plt.subplots(1, len(feature_names), sharey=True)\n",
    "for i, f in enumerate(feature_names):\n",
    "    (n, bins, patches) = axs[i].hist(x_set[:, i], bins=100)\n",
    "    plt.setp(axs[i], xlabel=feature_names[i])\n",
    "\n",
    "for key in config['IO']['feature_name'].keys():\n",
    "    model_mean = model_limits[key]['mean']\n",
    "    model_std = model_limits[key]['std']\n",
    "    assert(model_mean + 2 * model_std >= sme_limits[key]['max'] and model_mean - 2 * model_std <= sme_limits[key]['min'])\n",
    "### END HIDDEN TESTS"
   ]
  },
  {
   "cell_type": "markdown",
   "metadata": {},
   "source": [
    "### SECTION C: Data Distribution Trust (Confidence on Interpolation)\n",
    "\n",
    "- evaluate region confidence with model upper bound with 2 std from mean\n",
    "- evaluate region confidence with model lower bound with 2 std from mean\n",
    "- evaluate region confidence with SME max\n",
    "- evaluate region confidence with SME min\n",
    "\n",
    "We use a Gaussian Mixture Model (GMM) to fit to the data to be able to cluster distributions with means and covariances. We can then sample the GMM with a random state-action pair and evaluate the regions to trust based compared to SME desired limits. "
   ]
  },
  {
   "cell_type": "code",
   "execution_count": 28,
   "metadata": {
    "nbgrader": {
     "grade": true,
     "grade_id": "cell-d880180658ddb8e4",
     "locked": true,
     "points": 0,
     "schema_version": 3,
     "solution": false,
     "task": false
    }
   },
   "outputs": [
    {
     "name": "stdout",
     "output_type": "stream",
     "text": [
      "Evaluating best number of components for fitting using GMM...\n",
      "3 of 23...\n",
      "5 of 23...\n",
      "7 of 23...\n",
      "9 of 23...\n",
      "11 of 23...\n",
      "13 of 23...\n",
      "15 of 23...\n",
      "17 of 23...\n",
      "19 of 23...\n",
      "21 of 23...\n",
      "picking 13 components using Bayesian Information Criterion\n"
     ]
    },
    {
     "data": {
      "text/plain": [
       "GaussianMixture(covariance_type='full', init_params='kmeans', max_iter=100,\n",
       "                means_init=None, n_components=13, n_init=1,\n",
       "                precisions_init=None, random_state=0, reg_covar=1e-06,\n",
       "                tol=0.001, verbose=0, verbose_interval=10, warm_start=False,\n",
       "                weights_init=None)"
      ]
     },
     "execution_count": 28,
     "metadata": {},
     "output_type": "execute_result"
    }
   ],
   "source": [
    "## Create GMM using the same number of components as the number of features\n",
    "\n",
    "### BEGIN HIDDEN TESTS\n",
    "from sklearn.decomposition import PCA\n",
    "\n",
    "pca = PCA(0.99, random_state=0)\n",
    "pca_data = pca.fit_transform(dfs)\n",
    "initial_n_components = pca_data.shape[1]\n",
    "\n",
    "from sklearn.mixture import GaussianMixture\n",
    "\n",
    "bic_list = []\n",
    "upper_comp = 20\n",
    "print('Evaluating best number of components for fitting using GMM...')\n",
    "for i in range(initial_n_components, initial_n_components+upper_comp, 2):\n",
    "    gmm = GaussianMixture(\n",
    "        n_components=i,\n",
    "        covariance_type='full',\n",
    "        random_state=0\n",
    "    )\n",
    "    gmm.fit(dfs)\n",
    "    bic_list.append(gmm.bic(dfs))   \n",
    "    print('{} of {}...'.format(i, initial_n_components+upper_comp))\n",
    "    \n",
    "n_components = bic_list.index(min(bic_list))+len(feature_names)\n",
    "print('picking {} components using Bayesian Information Criterion'.format(n_components))\n",
    "\n",
    "gmm = GaussianMixture(\n",
    "    n_components=n_components,\n",
    "    covariance_type='full',\n",
    "    random_state=0\n",
    ")\n",
    "\n",
    "gmm.fit(dfs)\n",
    "\n",
    "#print(gmm.means_)\n",
    "#print(gmm.covariances_)\n",
    "\n",
    "### END HIDDEN TESTS"
   ]
  },
  {
   "cell_type": "code",
   "execution_count": 29,
   "metadata": {
    "nbgrader": {
     "grade": true,
     "grade_id": "cell-7819433c69c3ca4c",
     "locked": true,
     "points": 10,
     "schema_version": 3,
     "solution": false,
     "task": false
    }
   },
   "outputs": [
    {
     "name": "stdout",
     "output_type": "stream",
     "text": [
      "sample within model max: [[0.65809018 0.20320077 2.90525318 3.67264205 3.45178318]]\n",
      "probability [4.31288391e-44 1.17647791e-04 6.13293204e-01 1.38820203e-03\n",
      " 2.38302046e-02 5.70715529e-68 1.87206332e-08 1.37135590e-05\n",
      " 6.97805065e-05 3.05629896e-02 5.59794694e-04 3.30164445e-01\n",
      " 0.00000000e+00]\n"
     ]
    }
   ],
   "source": [
    "## Evaluate region confidence with model upper bound with 2 std from mean\n",
    "\n",
    "### BEGIN HIDDEN TESTS\n",
    "sample = []\n",
    "for feature_name in feature_names:\n",
    "    sample.append(model_limits[feature_name]['mean']+2*model_limits[feature_name]['std'])\n",
    "sample = np.array(sample).reshape(1, len(feature_names))\n",
    "print('sample within model max: {}'.format(sample))\n",
    "prob_result = gmm.predict_proba(sample)\n",
    "print('probability', np.ravel(prob_result))\n",
    "\n",
    "threshold = 0.5\n",
    "most_likely = max(np.ravel(prob_result))\n",
    "assert(most_likely > threshold and most_likely != 1 )\n",
    "### END HIDDEN TESTS"
   ]
  },
  {
   "cell_type": "code",
   "execution_count": 30,
   "metadata": {
    "nbgrader": {
     "grade": true,
     "grade_id": "cell-b06bc007122199ad",
     "locked": true,
     "points": 10,
     "schema_version": 3,
     "solution": false,
     "task": false
    }
   },
   "outputs": [
    {
     "name": "stdout",
     "output_type": "stream",
     "text": [
      "sample within model min: [[ 0.310451   -0.11436953 -2.81625473 -2.83559476 -3.45991471]]\n",
      "probability [1.11163672e-001 3.89300641e-019 7.41099559e-032 4.38049375e-003\n",
      " 2.00885043e-028 9.00855947e-228 1.41951758e-088 6.67852243e-003\n",
      " 1.03245990e-014 1.14145098e-001 7.63632214e-001 2.52129262e-025\n",
      " 0.00000000e+000]\n"
     ]
    }
   ],
   "source": [
    "## Evaluate region confidence with model lower bound with 2 std from mean\n",
    "\n",
    "### BEGIN HIDDEN TESTS\n",
    "sample = []\n",
    "for feature_name in feature_names:\n",
    "    sample.append(model_limits[feature_name]['mean']-2*model_limits[feature_name]['std'])\n",
    "sample = np.array(sample).reshape(1, len(feature_names))\n",
    "print('sample within model min: {}'.format(sample))    \n",
    "prob_result = gmm.predict_proba(sample)\n",
    "print('probability', np.ravel(prob_result))\n",
    "\n",
    "most_likely = max(np.ravel(prob_result))\n",
    "assert(most_likely > threshold and most_likely != 1 )\n",
    "### END HIDDEN TESTS"
   ]
  },
  {
   "cell_type": "code",
   "execution_count": 31,
   "metadata": {
    "nbgrader": {
     "grade": true,
     "grade_id": "cell-7d476fead68834b2",
     "locked": true,
     "points": 10,
     "schema_version": 3,
     "solution": false,
     "task": false
    }
   },
   "outputs": [
    {
     "name": "stdout",
     "output_type": "stream",
     "text": [
      "sample at SME max: [[ 1.5708      3.14159     7.61071849 11.9315224   3.        ]]\n",
      "probability [0. 0. 0. 1. 0. 0. 0. 0. 0. 0. 0. 0. 0.]\n"
     ]
    },
    {
     "ename": "AssertionError",
     "evalue": "",
     "output_type": "error",
     "traceback": [
      "\u001b[1;31m---------------------------------------------------------------------------\u001b[0m",
      "\u001b[1;31mAssertionError\u001b[0m                            Traceback (most recent call last)",
      "\u001b[1;32m<ipython-input-31-e101496cafed>\u001b[0m in \u001b[0;36m<module>\u001b[1;34m\u001b[0m\n\u001b[0;32m     11\u001b[0m \u001b[1;33m\u001b[0m\u001b[0m\n\u001b[0;32m     12\u001b[0m \u001b[0mmost_likely\u001b[0m \u001b[1;33m=\u001b[0m \u001b[0mmax\u001b[0m\u001b[1;33m(\u001b[0m\u001b[0mnp\u001b[0m\u001b[1;33m.\u001b[0m\u001b[0mravel\u001b[0m\u001b[1;33m(\u001b[0m\u001b[0mprob_result\u001b[0m\u001b[1;33m)\u001b[0m\u001b[1;33m)\u001b[0m\u001b[1;33m\u001b[0m\u001b[1;33m\u001b[0m\u001b[0m\n\u001b[1;32m---> 13\u001b[1;33m \u001b[1;32massert\u001b[0m\u001b[1;33m(\u001b[0m\u001b[0mmost_likely\u001b[0m \u001b[1;33m>\u001b[0m \u001b[0mthreshold\u001b[0m \u001b[1;32mand\u001b[0m \u001b[0mmost_likely\u001b[0m \u001b[1;33m!=\u001b[0m \u001b[1;36m1\u001b[0m \u001b[1;33m)\u001b[0m\u001b[1;33m\u001b[0m\u001b[1;33m\u001b[0m\u001b[0m\n\u001b[0m\u001b[0;32m     14\u001b[0m \u001b[1;31m### END HIDDEN TESTS\u001b[0m\u001b[1;33m\u001b[0m\u001b[1;33m\u001b[0m\u001b[1;33m\u001b[0m\u001b[0m\n",
      "\u001b[1;31mAssertionError\u001b[0m: "
     ]
    }
   ],
   "source": [
    "## Evaluate region confidence with SME max\n",
    "\n",
    "### BEGIN HIDDEN TESTS\n",
    "sample = []\n",
    "for feature_name in feature_names:\n",
    "    sample.append(sme_limits[feature_name]['max'])\n",
    "sample = np.array(sample).reshape(1, len(feature_names))\n",
    "print('sample at SME max: {}'.format(sample))\n",
    "prob_result = gmm.predict_proba(sample)\n",
    "print('probability', np.ravel(prob_result))\n",
    "\n",
    "most_likely = max(np.ravel(prob_result))\n",
    "assert(most_likely > threshold and most_likely != 1 )\n",
    "### END HIDDEN TESTS"
   ]
  },
  {
   "cell_type": "code",
   "execution_count": 32,
   "metadata": {
    "nbgrader": {
     "grade": true,
     "grade_id": "cell-8e3d3582046a56a1",
     "locked": true,
     "points": 10,
     "schema_version": 3,
     "solution": false,
     "task": false
    }
   },
   "outputs": [
    {
     "name": "stdout",
     "output_type": "stream",
     "text": [
      "sample at SME min: [[ -1.5708      -3.14159     -7.82291641 -12.84111866  -3.        ]]\n",
      "probability [0. 0. 0. 1. 0. 0. 0. 0. 0. 0. 0. 0. 0.]\n"
     ]
    },
    {
     "ename": "AssertionError",
     "evalue": "",
     "output_type": "error",
     "traceback": [
      "\u001b[1;31m---------------------------------------------------------------------------\u001b[0m",
      "\u001b[1;31mAssertionError\u001b[0m                            Traceback (most recent call last)",
      "\u001b[1;32m<ipython-input-32-e29068780f61>\u001b[0m in \u001b[0;36m<module>\u001b[1;34m\u001b[0m\n\u001b[0;32m     11\u001b[0m \u001b[1;33m\u001b[0m\u001b[0m\n\u001b[0;32m     12\u001b[0m \u001b[0mmost_likely\u001b[0m \u001b[1;33m=\u001b[0m \u001b[0mmax\u001b[0m\u001b[1;33m(\u001b[0m\u001b[0mnp\u001b[0m\u001b[1;33m.\u001b[0m\u001b[0mravel\u001b[0m\u001b[1;33m(\u001b[0m\u001b[0mprob_result\u001b[0m\u001b[1;33m)\u001b[0m\u001b[1;33m)\u001b[0m\u001b[1;33m\u001b[0m\u001b[1;33m\u001b[0m\u001b[0m\n\u001b[1;32m---> 13\u001b[1;33m \u001b[1;32massert\u001b[0m\u001b[1;33m(\u001b[0m\u001b[0mmost_likely\u001b[0m \u001b[1;33m>\u001b[0m \u001b[0mthreshold\u001b[0m \u001b[1;32mand\u001b[0m \u001b[0mmost_likely\u001b[0m \u001b[1;33m!=\u001b[0m \u001b[1;36m1\u001b[0m \u001b[1;33m)\u001b[0m\u001b[1;33m\u001b[0m\u001b[1;33m\u001b[0m\u001b[0m\n\u001b[0m\u001b[0;32m     14\u001b[0m \u001b[1;31m### END HIDDEN TESTS\u001b[0m\u001b[1;33m\u001b[0m\u001b[1;33m\u001b[0m\u001b[1;33m\u001b[0m\u001b[0m\n",
      "\u001b[1;31mAssertionError\u001b[0m: "
     ]
    }
   ],
   "source": [
    "## Evaluate region confidence with SME min\n",
    "\n",
    "### BEGIN HIDDEN TESTS\n",
    "sample = []\n",
    "for feature_name in feature_names:\n",
    "    sample.append(sme_limits[feature_name]['min'])\n",
    "sample = np.array(sample).reshape(1, len(feature_names))\n",
    "print('sample at SME min: {}'.format(sample))\n",
    "prob_result = gmm.predict_proba(sample)\n",
    "print('probability', np.ravel(prob_result))\n",
    "\n",
    "most_likely = max(np.ravel(prob_result))\n",
    "assert(most_likely > threshold and most_likely != 1 )\n",
    "### END HIDDEN TESTS"
   ]
  },
  {
   "cell_type": "code",
   "execution_count": null,
   "metadata": {},
   "outputs": [],
   "source": []
  }
 ],
 "metadata": {
  "celltoolbar": "Create Assignment",
  "kernelspec": {
   "display_name": "Python 3",
   "language": "python",
   "name": "python3"
  },
  "language_info": {
   "codemirror_mode": {
    "name": "ipython",
    "version": 3
   },
   "file_extension": ".py",
   "mimetype": "text/x-python",
   "name": "python",
   "nbconvert_exporter": "python",
   "pygments_lexer": "ipython3",
   "version": "3.7.9"
  }
 },
 "nbformat": 4,
 "nbformat_minor": 4
}
